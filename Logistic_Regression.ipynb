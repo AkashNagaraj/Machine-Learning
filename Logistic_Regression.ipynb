{
 "cells": [
  {
   "cell_type": "code",
   "execution_count": 10,
   "metadata": {},
   "outputs": [
    {
     "name": "stdout",
     "output_type": "stream",
     "text": [
      "X: [[5.1 3.5 1.4 0.2]\n",
      " [4.9 3.  1.4 0.2]\n",
      " [4.7 3.2 1.3 0.2]\n",
      " [4.6 3.1 1.5 0.2]\n",
      " [5.  3.6 1.4 0.2]\n",
      " [5.4 3.9 1.7 0.4]\n",
      " [4.6 3.4 1.4 0.3]\n",
      " [5.  3.4 1.5 0.2]\n",
      " [4.4 2.9 1.4 0.2]\n",
      " [4.9 3.1 1.5 0.1]] 150\n",
      "y [0 0 0 0 0 0 0 0 0 0]\n"
     ]
    }
   ],
   "source": [
    "import numpy as np\n",
    "from sklearn import datasets\n",
    "\n",
    "#Load iris datasets\n",
    "iris=datasets.load_iris()\n",
    "X=iris.data[:,:]\n",
    "y=(iris.target!=0)*1\n",
    "print(\"X:\",X[:10,:])\n",
    "print(\"y\",y[:10])"
   ]
  },
  {
   "cell_type": "code",
   "execution_count": 11,
   "metadata": {},
   "outputs": [],
   "source": [
    "a=np.arange(150)\n",
    "np.random.seed(42)\n",
    "np.random.shuffle(a)\n",
    "test=list(a[0:30])\n",
    "train=list(a[30:150])\n",
    "\n",
    "X_train=X[train]\n",
    "X_test=X[test]\n",
    "\n",
    "y_train=y[train]\n",
    "y_test=y[test]"
   ]
  },
  {
   "cell_type": "code",
   "execution_count": 24,
   "metadata": {},
   "outputs": [],
   "source": [
    "#general function\n",
    "def sigmoid(z):\n",
    "    return 1/(1+np.exp(-z))\n",
    "\n",
    "def zed(W,b,x):\n",
    "    return x.dot(W)+b\n",
    "\n",
    "def prob_prediction(W,b,x):\n",
    "    return sigmoid(zed(W,b,x))\n",
    "\n",
    "def cost_func(h,y):\n",
    "    return (-y*np.log(h)-(1-y)*np.log(1-h)).mean()\n",
    "\n",
    "#label prediction\n",
    "def predict(W,b,x):\n",
    "    prob=prob_prediction(W,b,x)\n",
    "    return prob>=0.5\n",
    "\n",
    "#Acc\n",
    "def evaluate(h_test,y):\n",
    "    return (h_test==y).mean()*100"
   ]
  },
  {
   "cell_type": "raw",
   "metadata": {},
   "source": [
    "Training and testing"
   ]
  },
  {
   "cell_type": "code",
   "execution_count": 25,
   "metadata": {},
   "outputs": [
    {
     "name": "stdout",
     "output_type": "stream",
     "text": [
      "TRaining:\n",
      "Epoch 0: Cost=0.599393\n",
      "Epoch 1000: Cost=0.007387\n",
      "Epoch 2000: Cost=0.003980\n",
      "Epoch 3000: Cost=0.002774\n",
      "Epoch 4000: Cost=0.002148\n",
      "Epoch 5000: Cost=0.001761\n",
      "Epoch 6000: Cost=0.001498\n",
      "Epoch 7000: Cost=0.001306\n",
      "Epoch 8000: Cost=0.001160\n",
      "Epoch 9000: Cost=0.001044\n",
      "Epoch 10000: Cost=0.000951\n",
      "Epoch 11000: Cost=0.000874\n",
      "Epoch 12000: Cost=0.000809\n",
      "Epoch 13000: Cost=0.000753\n",
      "Epoch 14000: Cost=0.000705\n",
      "Epoch 15000: Cost=0.000663\n",
      "Epoch 16000: Cost=0.000626\n",
      "Epoch 17000: Cost=0.000593\n",
      "Epoch 18000: Cost=0.000563\n",
      "Epoch 19000: Cost=0.000537\n",
      "Testing:\n",
      "Accuracy percentage: 100.0\n"
     ]
    }
   ],
   "source": [
    "##Initialization\n",
    "W=np.random.uniform(low=-0.1,high=0.1,size=X_train.shape[1])\n",
    "b=0.0\n",
    "learning_rate=0.1\n",
    "epochs=20000\n",
    "\n",
    "#training:fit the model to the training set\n",
    "print(\"TRaining:\")\n",
    "for i in range(epochs):\n",
    "    #calc predictions\n",
    "    y_predict=prob_prediction(W,b,X_train)\n",
    "    \n",
    "    #calc error\n",
    "    cost=cost_func(y_predict,y_train)\n",
    "    \n",
    "    #calc-gradients\n",
    "    W_gradient=(1.0/len(X_train))*(y_predict-y_train).dot(X_train)\n",
    "    b_gradient=(1.0/len(X_train))*np.sum(y_predict-y_train)\n",
    "    \n",
    "    #diagnostic output\n",
    "    if i % 1000==0 : print(\"Epoch %d: Cost=%f\"%(i,cost))\n",
    "        \n",
    "    #update parameters\n",
    "    W=W-(learning_rate*W_gradient)\n",
    "    b=b-(learning_rate*b_gradient)\n",
    "    \n",
    "#Evaluate\n",
    "print(\"Testing:\")\n",
    "test_set_predictions=predict(W,b,X_test)\n",
    "print(\"Accuracy percentage:\",evaluate(test_set_predictions,y_test))"
   ]
  },
  {
   "cell_type": "code",
   "execution_count": null,
   "metadata": {},
   "outputs": [],
   "source": []
  }
 ],
 "metadata": {
  "kernelspec": {
   "display_name": "Python 3",
   "language": "python",
   "name": "python3"
  },
  "language_info": {
   "codemirror_mode": {
    "name": "ipython",
    "version": 3
   },
   "file_extension": ".py",
   "mimetype": "text/x-python",
   "name": "python",
   "nbconvert_exporter": "python",
   "pygments_lexer": "ipython3",
   "version": "3.6.5"
  }
 },
 "nbformat": 4,
 "nbformat_minor": 2
}
